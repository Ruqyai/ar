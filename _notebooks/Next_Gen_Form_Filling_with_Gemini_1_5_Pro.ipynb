{
  "nbformat": 4,
  "nbformat_minor": 0,
  "metadata": {
    "colab": {
      "provenance": [],
      "toc_visible": true,
      "include_colab_link": true
    },
    "kernelspec": {
      "name": "python3",
      "display_name": "Python 3"
    },
    "language_info": {
      "name": "python"
    }
  },
  "cells": [
    {
      "cell_type": "markdown",
      "metadata": {
        "id": "view-in-github",
        "colab_type": "text"
      },
      "source": [
        "<a href=\"https://colab.research.google.com/github/Ruqyai/ruqyai.github.io/blob/main/_notebooks/Next_Gen_Form_Filling_with_Gemini_1_5_Pro.ipynb\" target=\"_parent\"><img src=\"https://colab.research.google.com/assets/colab-badge.svg\" alt=\"Open In Colab\"/></a>"
      ]
    },
    {
      "cell_type": "markdown",
      "source": [
        "# Next-Gen Form Filling with Gemini 1.5 Pro\n",
        "[**Ruqiya Bin Safi**](https://ruqyai.github.io/)\n",
        "\n",
        "Filling out forms can be boring and time-consuming. This often leads to user frustration and incomplete submissions. However, conversational AI, like the `Gemini 1.5 Pro` language model, is changing how we interact with forms.\n",
        "\n",
        "Using `Gemini 1.5 Pro` with `LangChain` make form filling easy and engaging. Instead of dealing with complicated forms, users can simply provide information through a chat interface.\n",
        "\n",
        "In this tutorial, I’ll show you how to leverage `Gemini 1.5 Pro` to enhance your user experience by replacing the traditional form method with a user-friendly form-filling experience. Using conversational AI can greatly improve user satisfaction and make data collection more efficient. Let’s see how `Gemini 1.5 Pro` can change the way your users interact with forms.\n"
      ],
      "metadata": {
        "id": "OhoKAW1rnpdS"
      }
    },
    {
      "cell_type": "markdown",
      "source": [
        "  <img src=\"https://raw.githubusercontent.com/Ruqyai/ruqyai.github.io/main/images/FormFilling.gif\" alt=\"Form Filling GIF\" style=\"width: 50%;align-items: center; height: 50%;\">\n"
      ],
      "metadata": {
        "id": "4MXeMyCP4y8G"
      }
    },
    {
      "cell_type": "markdown",
      "source": [
        "\n",
        "\n",
        "---\n",
        "\n"
      ],
      "metadata": {
        "id": "byLDIzH54Wtw"
      }
    },
    {
      "cell_type": "markdown",
      "source": [
        "#### Prerequisites\n",
        "Before starting, ensure you have the necessary libraries installed. Run the following command to install the required packages:"
      ],
      "metadata": {
        "id": "nCnHgfVjGlmh"
      }
    },
    {
      "cell_type": "code",
      "source": [
        "!pip -q install langchain  langchain_community langchain_google_genai  gradio > /dev/null 2>&1"
      ],
      "metadata": {
        "id": "eshUuhxGqqF-"
      },
      "execution_count": null,
      "outputs": []
    },
    {
      "cell_type": "markdown",
      "source": [
        "## Step 1:  Import Libraries, Set the API Key, and Initialize Gemini 1.5 Pro\n",
        "First, we'll import the necessary libraries and configure the environment."
      ],
      "metadata": {
        "id": "67SfYfsDr4jd"
      }
    },
    {
      "cell_type": "code",
      "source": [
        "# Import Libraries\n",
        "import os\n",
        "import getpass\n",
        "import gradio as gr\n",
        "import random\n",
        "from typing import Optional, List\n",
        "from pydantic import BaseModel, Field\n",
        "from langchain.prompts import PromptTemplate\n",
        "from langchain_core.output_parsers import JsonOutputParser\n",
        "from langchain_google_genai import ChatGoogleGenerativeAI"
      ],
      "metadata": {
        "id": "x_3LAtEJsGh3"
      },
      "execution_count": null,
      "outputs": []
    },
    {
      "cell_type": "markdown",
      "source": [
        "\n",
        "\n",
        "Set the Google API Key and Initialize Gemini 1.5 Pro\n",
        "\n"
      ],
      "metadata": {
        "id": "TVIV4pJIFiH4"
      }
    },
    {
      "cell_type": "code",
      "source": [
        "# Set the API Key\n",
        "os.environ[\"GOOGLE_API_KEY\"] = getpass.getpass(prompt=\"GOOGLE_API_KEY\")\n",
        "# nitialize Gemini 1.5 Pro\n",
        "llm = ChatGoogleGenerativeAI(model=\"gemini-1.5-pro\", temperature=0)"
      ],
      "metadata": {
        "id": "y3gyYH7lFZFn"
      },
      "execution_count": null,
      "outputs": []
    },
    {
      "cell_type": "markdown",
      "source": [
        "## Step 2: Defining the User Data Class\n",
        "Next, we'll create a UserDetails class to represent the user's information. This class will use pydantic for data validation and provide optional fields for various user details."
      ],
      "metadata": {
        "id": "AkgIADCksCvz"
      }
    },
    {
      "cell_type": "code",
      "source": [
        "# Data Model for User Details\n",
        "class UserDetails(BaseModel):\n",
        "    language: Optional[str] = Field(\n",
        "        None, enum=[\"arabic\", \"english\"],\n",
        "        description=\"The language preferred by the user.\"\n",
        "    )\n",
        "    first_name: Optional[str] = Field(\n",
        "        None,\n",
        "        description=\"The user's first name.\",\n",
        "    )\n",
        "    last_name: Optional[str] = Field(\n",
        "        None,\n",
        "        description=\"The user's last name or surname.\",\n",
        "    )\n",
        "    city: Optional[str] = Field(\n",
        "        None,\n",
        "        description=\"The city where the user resides.\",\n",
        "    )\n",
        "    email: Optional[str] = Field(\n",
        "        None,\n",
        "        description=\"The user's email address.\",\n",
        "    )"
      ],
      "metadata": {
        "id": "BH5d5NFhsNXh"
      },
      "execution_count": null,
      "outputs": []
    },
    {
      "cell_type": "markdown",
      "source": [
        "## Step 3: Extracting User Details from Text\n",
        "We'll define a function to extract user details from a given input text. We'll use the Gemini 1.5 Pro model through LangChain to create a chain that processes the input text and extracts the relevant details."
      ],
      "metadata": {
        "id": "0WIrndNusQbb"
      }
    },
    {
      "cell_type": "code",
      "source": [
        "# Chain to Extract Details from Text\n",
        "def extract_user_details(input_text: str) -> UserDetails:\n",
        "    parser = JsonOutputParser(pydantic_object=UserDetails)\n",
        "\n",
        "    extraction_prompt = PromptTemplate(\n",
        "        template=\"\"\"Extract the following personal details from the text and provide them:\n",
        "        {input}   \\n \\n {format_instructions}\"\"\",\n",
        "        input_variables=[\"input\"],\n",
        "        partial_variables={\"format_instructions\": parser.get_format_instructions()},\n",
        "    )\n",
        "    chain = extraction_prompt | llm | parser\n",
        "    return chain.invoke(input_text)"
      ],
      "metadata": {
        "id": "SGO8ra5xsa6Q"
      },
      "execution_count": null,
      "outputs": []
    },
    {
      "cell_type": "markdown",
      "source": [
        "## Step 4: Updating and Merging User Details\n",
        "We'll create a function to update existing user details with new information. This function will merge the new details with the existing ones, ensuring that no data is overwritten unnecessarily."
      ],
      "metadata": {
        "id": "SwFZu67Ysepe"
      }
    },
    {
      "cell_type": "code",
      "source": [
        "# Update Existing Details with New Information\n",
        "def merge_user_details(current_details: UserDetails, new_details: dict) -> UserDetails:\n",
        "        print(\"Data received:\", new_details)\n",
        "        try:\n",
        "            personal_details = new_details\n",
        "        except KeyError as e:\n",
        "            print(f\"KeyError: {e}. The key 'personaldetails' is not in the data dictionary.\")\n",
        "            personal_details = {}\n",
        "\n",
        "        # Update only the empty fields in current_details\n",
        "        updated_details = {\n",
        "            'language': personal_details.get('language', current_details.language) if not current_details.language else current_details.language,\n",
        "            'first_name': personal_details.get('first_name', current_details.first_name) if not current_details.first_name else current_details.first_name,\n",
        "            'last_name': personal_details.get('last_name', current_details.last_name) if not current_details.last_name else current_details.last_name,\n",
        "            'city': personal_details.get('city', current_details.city) if not current_details.city else current_details.city,\n",
        "            'email': personal_details.get('email', current_details.email) if not current_details.email else current_details.email\n",
        "            }\n",
        "\n",
        "        return UserDetails(language=updated_details.get('language'),\n",
        "                                         first_name=updated_details.get('first_name'),\n",
        "                              last_name=updated_details.get('last_name'),\n",
        "                              city=updated_details.get('city'),\n",
        "                              email=updated_details.get('email')\n",
        "                              )"
      ],
      "metadata": {
        "id": "iDq-i22jsiTN"
      },
      "execution_count": null,
      "outputs": []
    },
    {
      "cell_type": "markdown",
      "source": [
        "## Step 5: Finding Missing Details\n",
        "To ensure we collect all necessary information, we'll create a function to find any missing details in the user's information."
      ],
      "metadata": {
        "id": "vyuqIi3bsoYV"
      }
    },
    {
      "cell_type": "code",
      "source": [
        "# Find Missing Details\n",
        "def find_missing_details(user_details: UserDetails) -> List[str]:\n",
        "    empty_fields = []\n",
        "    for field in vars(user_details):\n",
        "        value = getattr(user_details, field)\n",
        "        if value in [None, \"\", 0]:\n",
        "            print(f\"Field '{field}' is empty.\")\n",
        "            empty_fields.append(field)\n",
        "    return empty_fields"
      ],
      "metadata": {
        "id": "hi89JAXkstly"
      },
      "execution_count": null,
      "outputs": []
    },
    {
      "cell_type": "markdown",
      "source": [
        "## Step 6: Prompting the User for Missing Information\n",
        "We'll create a function to prompt the user for any missing information in a conversational manner. This function will generate a prompt based on the missing fields and the user's input."
      ],
      "metadata": {
        "id": "41M01WPqswaH"
      }
    },
    {
      "cell_type": "code",
      "source": [
        "# Prompt the User for Missing Information\n",
        "def prompt_for_missing_info(missing_fields: List[str], user_input: str) -> str:\n",
        "    system_prompt = \"\"\"You are a chatbot that collect user data that needs for registration. You talk to the user in a friendly way.\n",
        "    Interact with user message:\n",
        "    {user_input}\n",
        "    If use write arabic you must reply in Arbic. if use write english you must reply in English.\n",
        "    Here are some things to ask the user for in a conversational way:\n",
        "    ### Missing fields list: {missing_fields}\n",
        "\n",
        "    Only ask one question at a time, even if you don't get all the info.\n",
        "    If there are four items in the list, say hello.\n",
        "    If there are less than four items and the list is not empty , make the conversation seem continuous.\n",
        "    If the list is empty, thank the user, tell them you've collected their registration data, and say goodbye.\n",
        "    \"\"\"\n",
        "    prompt = PromptTemplate(template=system_prompt, input_variables=['missing_fields', \"user_input\"])\n",
        "\n",
        "    chain = prompt | llm\n",
        "    ai_response = chain.invoke({\"missing_fields\": missing_fields, \"user_input\": user_input})\n",
        "    return ai_response.content"
      ],
      "metadata": {
        "id": "rcvK-joUs0bP"
      },
      "execution_count": null,
      "outputs": []
    },
    {
      "cell_type": "markdown",
      "source": [
        "## Step 7: Main Chatbot Function\n",
        "We'll initialize an empty UserDetails object and define the main function for our chatbot. This function will extract user details from the input text, merge them with the existing details, find any missing information, and prompt the user accordingly."
      ],
      "metadata": {
        "id": "Ddiq8wa8s4y8"
      }
    },
    {
      "cell_type": "code",
      "source": [
        "# Initialize an empty UserDetails object\n",
        "current_user_details = UserDetails()\n",
        "\n",
        "# The main chatbot function.\n",
        "def chatbot_response(text_input: str) -> str:\n",
        "    global current_user_details\n",
        "\n",
        "    extracted_details = extract_user_details(text_input)\n",
        "    current_user_details = merge_user_details(current_user_details, extracted_details)\n",
        "    missing_fields = find_missing_details(current_user_details)\n",
        "    if not missing_fields:\n",
        "\n",
        "          messages = [\n",
        "              \"Thank you, I've collected your data that we need for registration. See you soon!\",\n",
        "              \"Thanks! Your information has been recorded. Have a great day!\",\n",
        "              \"Data saved! You're all set. See you next time!\",\n",
        "              \"All done! Your registration is complete. See you soon!\",\n",
        "              \"Got it! Your data is safe with us. See you next time!\"]\n",
        "          Thanks_message = random.choice(messages)\n",
        "          return Thanks_message\n",
        "    return prompt_for_missing_info(missing_fields, text_input)"
      ],
      "metadata": {
        "id": "lBbL84CqtFDe"
      },
      "execution_count": null,
      "outputs": []
    },
    {
      "cell_type": "code",
      "source": [
        "# Before running the chat, check the data of the user that was just initialized.\n",
        "print(current_user_details)"
      ],
      "metadata": {
        "id": "vmhfrXdL6Uid"
      },
      "execution_count": null,
      "outputs": []
    },
    {
      "cell_type": "markdown",
      "source": [
        "## Step 8: Creating the Gradio Interface\n",
        "Finally, we'll use Gradio to create a user interface for our chatbot. This interface will allow users to interact with the chatbot and provide their information."
      ],
      "metadata": {
        "id": "hekajY2StA6H"
      }
    },
    {
      "cell_type": "code",
      "execution_count": null,
      "metadata": {
        "id": "CFlHxt5dmcXu"
      },
      "outputs": [],
      "source": [
        "# Gradio Interface\n",
        "chatbot = gr.Interface(\n",
        "    fn=chatbot_response,\n",
        "    inputs=\"text\",\n",
        "    outputs=\"text\",\n",
        "    live=False,\n",
        "    title=\"Chat to Collect and Save User Information\",\n",
        "    description=\"Let's chat to register you for our services\",\n",
        ")\n",
        "\n",
        "chatbot.launch(debug=True)\n"
      ]
    },
    {
      "cell_type": "markdown",
      "source": [
        "## Step 9: Check If All Data Is Saved\n"
      ],
      "metadata": {
        "id": "sVKcO1A08xPN"
      }
    },
    {
      "cell_type": "code",
      "source": [
        "# Check if all data of user is saved\n",
        "print(current_user_details)"
      ],
      "metadata": {
        "id": "AIzLZVMVmeot"
      },
      "execution_count": null,
      "outputs": []
    },
    {
      "cell_type": "markdown",
      "source": [
        "\n",
        "\n",
        "## Wrap-Up:\n",
        "\n",
        "By integrating Gemini 1.5 Pro into your applications, you can transform the way users interact with forms, making the process smoother and more enjoyable. This not only enhances user experience but also ensures more complete and accurate data collection. Embrace the power of conversational AI to take your form-filling processes to the next level.\n",
        "\n",
        "**Links:**\n",
        "- [View this tutorial on Google Colab](https://colab.research.google.com/github/Ruqyai/ruqyai.github.io/blob/main/_notebooks/Next_Gen_Form_Filling_with_Gemini_1_5_Pro.ipynb)\n",
        "- [Find the code on GitHub](https://github.com/Ruqyai/ruqyai.github.io/blob/main/_notebooks/Next_Gen_Form_Filling_with_Gemini_1_5_Pro.ipynb)\n",
        "- [Read more on my blog](https://ruqyai.github.io/posts/2024/06/blog-post-2/)\n",
        "- [Read more on my Medium](https://medium.com/@rbinsafi/next-gen-form-filling-with-gemini-1-5-pro-8cc92e77d399)"
      ],
      "metadata": {
        "id": "UVFDIgGv-DhN"
      }
    }
  ]
}